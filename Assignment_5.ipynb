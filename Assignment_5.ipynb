{
 "cells": [
  {
   "cell_type": "markdown",
   "id": "22093bb7",
   "metadata": {},
   "source": [
    "question - https://drive.google.com/file/d/1fM3fWLFqQAgiOa3YY41ZRlEFzqA3vorL/view"
   ]
  },
  {
   "cell_type": "markdown",
   "id": "445812b3",
   "metadata": {},
   "source": [
    "**1. What does an empty dictionary&#39;s code look like?**\n"
   ]
  },
  {
   "cell_type": "code",
   "execution_count": null,
   "id": "8bcef84e",
   "metadata": {},
   "outputs": [],
   "source": [
    "empty_dict = {}"
   ]
  },
  {
   "cell_type": "markdown",
   "id": "cff05685",
   "metadata": {},
   "source": [
    "**2. What is the value of a dictionary value with the key &#39;foo&#39; and the value 42?**\n"
   ]
  },
  {
   "cell_type": "code",
   "execution_count": 1,
   "id": "e1ed20ac",
   "metadata": {},
   "outputs": [
    {
     "name": "stdout",
     "output_type": "stream",
     "text": [
      "42\n"
     ]
    }
   ],
   "source": [
    "my_dict = {'foo': 42}\n",
    "value = my_dict['foo']\n",
    "print(value)  # Output: 42"
   ]
  },
  {
   "cell_type": "markdown",
   "id": "3db95620",
   "metadata": {},
   "source": [
    "**3. What is the most significant distinction between a dictionary and a list?**\n"
   ]
  },
  {
   "cell_type": "markdown",
   "id": "4069f6a5",
   "metadata": {},
   "source": [
    "- A `list` is an ordered collection of values, where each value is identified by an index (a numeric position in the list). The values in a list can be of any data type, and duplicate values are allowed. You can access a value in a list using its index\n",
    "- a `dictionary` is an unordered collection of key-value pairs, where each key maps to a specific value. The keys in a dictionary must be unique, and the values can be of any data type (including other dictionaries). You can access a value in a dictionary using its key,"
   ]
  },
  {
   "cell_type": "code",
   "execution_count": 2,
   "id": "d7791ad0",
   "metadata": {},
   "outputs": [
    {
     "name": "stdout",
     "output_type": "stream",
     "text": [
      "1\n"
     ]
    }
   ],
   "source": [
    "my_list = [1, 2, 3, 'four', 'five']\n",
    "value = my_list[0]\n",
    "print(value)  # Output: 1"
   ]
  },
  {
   "cell_type": "code",
   "execution_count": 3,
   "id": "c883aee9",
   "metadata": {},
   "outputs": [
    {
     "name": "stdout",
     "output_type": "stream",
     "text": [
      "1\n"
     ]
    }
   ],
   "source": [
    "my_dict = {'one': 1, 'two': 2, 'three': 3}\n",
    "value = my_dict['one']\n",
    "print(value)  # Output: 1"
   ]
  },
  {
   "cell_type": "markdown",
   "id": "193a256c",
   "metadata": {},
   "source": [
    "**4. What happens if you try to access spam[&#39;foo&#39;] if spam is {&#39;bar&#39;: 100}?**\n"
   ]
  },
  {
   "cell_type": "code",
   "execution_count": 4,
   "id": "0e9ae241",
   "metadata": {},
   "outputs": [
    {
     "name": "stdout",
     "output_type": "stream",
     "text": [
      "Key not found\n"
     ]
    }
   ],
   "source": [
    "spam = {'bar': 100}\n",
    "if 'foo' in spam:\n",
    "    value = spam['foo']\n",
    "    print(value)\n",
    "else:\n",
    "    print('Key not found')"
   ]
  },
  {
   "cell_type": "code",
   "execution_count": 5,
   "id": "dfe1787f",
   "metadata": {},
   "outputs": [
    {
     "name": "stdout",
     "output_type": "stream",
     "text": [
      "Key not found\n"
     ]
    }
   ],
   "source": [
    "#Alternatively\n",
    "spam = {'bar': 100}\n",
    "value = spam.get('foo', 'Key not found')\n",
    "print(value)\n"
   ]
  },
  {
   "cell_type": "markdown",
   "id": "cac19d8e",
   "metadata": {},
   "source": [
    "**5. If a dictionary is stored in spam, what is the difference between the expressions &#39;cat&#39; in spam and\n",
    "&#39;cat&#39; in spam.keys()?**\n"
   ]
  },
  {
   "cell_type": "markdown",
   "id": "0fdf80e9",
   "metadata": {},
   "source": [
    "There is no difference between the expressions 'cat' in spam and 'cat' in spam.keys() when spam is a dictionary. Both expressions will check whether the key 'cat' is present in the dictionary spam and return a boolean value of True or False."
   ]
  },
  {
   "cell_type": "code",
   "execution_count": 6,
   "id": "9c3caca9",
   "metadata": {},
   "outputs": [
    {
     "name": "stdout",
     "output_type": "stream",
     "text": [
      "True\n",
      "True\n",
      "False\n",
      "False\n"
     ]
    }
   ],
   "source": [
    "spam = {'cat': 1, 'dog': 2, 'bird': 3}\n",
    "print('cat' in spam)           # Output: True\n",
    "print('cat' in spam.keys())    # Output: True\n",
    "print('lion' in spam)          # Output: False\n",
    "print('lion' in spam.keys())   # Output: False\n"
   ]
  },
  {
   "cell_type": "markdown",
   "id": "1dfb945d",
   "metadata": {},
   "source": [
    "**6. If a dictionary is stored in spam, what is the difference between the expressions &#39;cat&#39; in spam and\n",
    "&#39;cat&#39; in spam.values()?**\n"
   ]
  },
  {
   "cell_type": "markdown",
   "id": "094530a5",
   "metadata": {},
   "source": [
    "expression 'cat' in spam, Python will check if the key 'cat' exists in the keys of the dictionary spam. If the key 'cat' is present as a key in the dictionary, the expression will evaluate to True, otherwise it will evaluate to False.\n",
    "\n",
    "On the other hand,the expression 'cat' in spam.values(), Python will check if the value 'cat' exists in the values of the dictionary spam. If the value 'cat' is present as a value in the dictionary, the expression will evaluate to True, otherwise it will evaluate to False."
   ]
  },
  {
   "cell_type": "code",
   "execution_count": 7,
   "id": "5e8b61a3",
   "metadata": {},
   "outputs": [
    {
     "name": "stdout",
     "output_type": "stream",
     "text": [
      "True\n",
      "False\n",
      "True\n",
      "False\n"
     ]
    }
   ],
   "source": [
    "# Creating a dictionary\n",
    "spam = {'a': 'cat', 'b': 'dog', 'c': 'fish'}\n",
    "\n",
    "# Using the 'in' operator with the dictionary's keys\n",
    "print('a' in spam)         # Output: True\n",
    "print('cat' in spam)       # Output: False\n",
    "\n",
    "# Using the 'in' operator with the dictionary's values\n",
    "print('cat' in spam.values())    # Output: True\n",
    "print('horse' in spam.values())  # Output: False\n"
   ]
  },
  {
   "cell_type": "markdown",
   "id": "1dc2a56e",
   "metadata": {},
   "source": [
    "**7. What is a shortcut for the following code?**\n",
    "\n",
    "**if &#39;color&#39; not in spam:**\n",
    "\n",
    "**spam[&#39;color&#39;] = &#39;black&#39;**\n",
    "\n"
   ]
  },
  {
   "cell_type": "code",
   "execution_count": 8,
   "id": "c40a0025",
   "metadata": {},
   "outputs": [
    {
     "name": "stdout",
     "output_type": "stream",
     "text": [
      "{'name': 'Alice', 'age': 30, 'color': 'black'}\n",
      "{'name': 'Alice', 'age': 30, 'color': 'black'}\n"
     ]
    }
   ],
   "source": [
    "# Creating a dictionary\n",
    "spam = {'name': 'Alice', 'age': 30}\n",
    "\n",
    "# Using setdefault() method\n",
    "spam.setdefault('color', 'black')  # adds the key-value pair {'color': 'black'} to spam\n",
    "\n",
    "print(spam)  # Output: {'name': 'Alice', 'age': 30, 'color': 'black'}\n",
    "\n",
    "spam.setdefault('age', 40)  # does nothing, because 'age' is already a key in spam\n",
    "\n",
    "print(spam)  # Output: {'name': 'Alice', 'age': 30, 'color': 'black'}"
   ]
  },
  {
   "cell_type": "markdown",
   "id": "80059410",
   "metadata": {},
   "source": [
    "**8. How do you &quot;pretty print&quot; dictionary values using which module and function?**"
   ]
  },
  {
   "cell_type": "code",
   "execution_count": 13,
   "id": "cb37aca9",
   "metadata": {},
   "outputs": [
    {
     "name": "stdout",
     "output_type": "stream",
     "text": [
      "{'age': 30, 'hobbies': ['reading', 'painting', 'swimming'], 'name': 'Alice'}\n"
     ]
    }
   ],
   "source": [
    "import pprint\n",
    "\n",
    "# Creating a dictionary\n",
    "spam = {'name': 'Alice', 'age': 30, 'hobbies': ['reading', 'painting', 'swimming']}\n",
    "\n",
    "# Pretty printing the dictionary\n",
    "pprint.pprint(spam)"
   ]
  },
  {
   "cell_type": "code",
   "execution_count": null,
   "id": "d35c30d0",
   "metadata": {},
   "outputs": [],
   "source": []
  }
 ],
 "metadata": {
  "kernelspec": {
   "display_name": "Python 3 (ipykernel)",
   "language": "python",
   "name": "python3"
  },
  "language_info": {
   "codemirror_mode": {
    "name": "ipython",
    "version": 3
   },
   "file_extension": ".py",
   "mimetype": "text/x-python",
   "name": "python",
   "nbconvert_exporter": "python",
   "pygments_lexer": "ipython3",
   "version": "3.7.15"
  }
 },
 "nbformat": 4,
 "nbformat_minor": 5
}
