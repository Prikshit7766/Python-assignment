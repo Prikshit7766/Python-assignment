{
 "cells": [
  {
   "cell_type": "markdown",
   "id": "23eb0e99",
   "metadata": {},
   "source": [
    "question -https://drive.google.com/file/d/1RjQBjq90BeqNuon_JUlrih7Tnda732cs/view"
   ]
  },
  {
   "cell_type": "markdown",
   "id": "d01d5d51",
   "metadata": {},
   "source": [
    "**1. In the below elements which of them are values or an expression? eg:- values can be integer or string and expressions will be mathematical operators.**\n",
    "\n",
    "  *\n",
    "\n",
    "'hello'\n",
    "\n",
    "-87.8\n",
    "\n",
    "  -\n",
    "\n",
    "/\n",
    "\n",
    "+\n",
    "\n",
    "6\n"
   ]
  },
  {
   "cell_type": "markdown",
   "id": "a64f78f9",
   "metadata": {},
   "source": [
    "**answer** "
   ]
  },
  {
   "cell_type": "code",
   "execution_count": null,
   "id": "b121921c",
   "metadata": {},
   "outputs": [],
   "source": [
    "\n",
    "- values         'hello',-87.8,6\n",
    "\n",
    "- expression       - ,/ ,+ ,6\n",
    "        "
   ]
  },
  {
   "cell_type": "markdown",
   "id": "b80fa1e5",
   "metadata": {},
   "source": [
    "**2. What is the difference between string and variable?**"
   ]
  },
  {
   "cell_type": "markdown",
   "id": "877c191f",
   "metadata": {},
   "source": [
    "**answer**\n",
    "- Python Variable is containers which store values. A variable is created the moment we first assign a value to it. A Python variable is a name given to a memory location.It is the basic unit of storage in a program.\n",
    "example , Var = 1\n",
    "\n",
    "- Strings are used for storing text/characters. For example, \"Hello World\" is a string of characters.The string type in Python is called str"
   ]
  },
  {
   "cell_type": "markdown",
   "id": "14a520a4",
   "metadata": {},
   "source": [
    "3. Describe three different data types.\n"
   ]
  },
  {
   "cell_type": "markdown",
   "id": "35b4191d",
   "metadata": {},
   "source": [
    "**answer**\n",
    "- Numeric data types: int, float, complex\n",
    "\n",
    "- String data types: str\n",
    "\n",
    "- Sequence types: list, tuple, range\n",
    "\n",
    "- Binary types: bytes, bytearray, memoryview\n",
    "\n",
    "- Mapping data type: dict\n",
    "\n",
    "- Boolean type: bool\n",
    "\n",
    "- Set data types: set, frozenset"
   ]
  },
  {
   "cell_type": "markdown",
   "id": "1e5bfe63",
   "metadata": {},
   "source": [
    "**4. What is an expression made up of? What do all expressions do?**"
   ]
  },
  {
   "attachments": {},
   "cell_type": "markdown",
   "id": "1dc25127",
   "metadata": {},
   "source": [
    "**answer**\n",
    "- An expression in Python is a combination of operators and operands and an operand can be a constant, a variable or a function result. Operators are arithmetic, logical, and relational. \n",
    "- an expression is evaluated as per the precedence of its operators.\n",
    "\n"
   ]
  },
  {
   "cell_type": "markdown",
   "id": "3c66b9b9",
   "metadata": {},
   "source": [
    "**5. This assignment statements, like spam = 10. What is the difference between an expression and a statement?**"
   ]
  },
  {
   "cell_type": "markdown",
   "id": "dbe1795c",
   "metadata": {},
   "source": [
    "**answer**\n",
    "\n",
    "A Statement is a action or a command that does something. Ex: If-Else,Loops..etc\n",
    "    \n",
    "An Expression is a combination of values, operators and literals which yields something.   "
   ]
  },
  {
   "cell_type": "markdown",
   "id": "51f2a6cc",
   "metadata": {},
   "source": [
    "**6. After running the following code, what does the variable bacon contain?**\n",
    "\n",
    "bacon = 22\n",
    "\n",
    "bacon + 1"
   ]
  },
  {
   "cell_type": "markdown",
   "id": "172352cc",
   "metadata": {},
   "source": [
    "**answer**\n",
    "\n",
    " 23"
   ]
  },
  {
   "cell_type": "markdown",
   "id": "6883f542",
   "metadata": {},
   "source": [
    "**7. What should the values of the following two terms be?**\n",
    "\n",
    "'spam' + 'spamspam'\n",
    "\n",
    "'spam' * 3"
   ]
  },
  {
   "cell_type": "markdown",
   "id": "e70860c2",
   "metadata": {},
   "source": [
    "**answer**\n",
    "\n",
    "'spamspamspam'\n",
    "\n",
    "'spamspamspam'"
   ]
  },
  {
   "cell_type": "code",
   "execution_count": 4,
   "id": "9e1277db",
   "metadata": {},
   "outputs": [
    {
     "data": {
      "text/plain": [
       "'spamspamspam'"
      ]
     },
     "execution_count": 4,
     "metadata": {},
     "output_type": "execute_result"
    }
   ],
   "source": [
    "'spam' + 'spamspam'"
   ]
  },
  {
   "cell_type": "code",
   "execution_count": 5,
   "id": "23457421",
   "metadata": {},
   "outputs": [
    {
     "data": {
      "text/plain": [
       "'spamspamspam'"
      ]
     },
     "execution_count": 5,
     "metadata": {},
     "output_type": "execute_result"
    }
   ],
   "source": [
    "'spam' * 3"
   ]
  },
  {
   "cell_type": "markdown",
   "id": "3921110d",
   "metadata": {},
   "source": [
    "**8. Why is eggs a valid variable name while 100 is invalid?**"
   ]
  },
  {
   "cell_type": "markdown",
   "id": "51047265",
   "metadata": {},
   "source": [
    "**answer**\n",
    "\n",
    "Rules for Python variables:\n",
    "\n",
    "- A variable name must start with a letter or the underscore character\n",
    "- A variable name cannot start with a number\n",
    "- A variable name can only contain alpha-numeric characters and underscores (A-z, 0-9, and _ )\n",
    "- Variable names are case-sensitive (age, Age and AGE are three different variables)"
   ]
  },
  {
   "cell_type": "markdown",
   "id": "17a3c916",
   "metadata": {},
   "source": [
    "**9. What three functions can be used to get the integer, floating-point number, or string version of a value?**"
   ]
  },
  {
   "cell_type": "markdown",
   "id": "49e4294e",
   "metadata": {},
   "source": [
    "**answer**\n",
    "\n",
    "The int() , float() , and str( ) functions will evaluate to the integer, floating-point number, and string versions of the value passed to them."
   ]
  },
  {
   "cell_type": "markdown",
   "id": "92b1fffc",
   "metadata": {},
   "source": [
    "**10. Why does this expression cause an error? How can you fix it?**\n",
    "\n",
    "'I have eaten ' + 99 + ' burritos.'"
   ]
  },
  {
   "cell_type": "code",
   "execution_count": null,
   "id": "8a93df10",
   "metadata": {},
   "outputs": [],
   "source": [
    "can only concatenate str and 99 is integer. To concatenate the above expression we have to first convert 99 to str by using str(99) "
   ]
  },
  {
   "cell_type": "code",
   "execution_count": 7,
   "id": "b06dc4ff",
   "metadata": {},
   "outputs": [
    {
     "data": {
      "text/plain": [
       "'I have eaten 99 burritos.'"
      ]
     },
     "execution_count": 7,
     "metadata": {},
     "output_type": "execute_result"
    }
   ],
   "source": [
    "'I have eaten ' + str(99) + ' burritos.'"
   ]
  },
  {
   "cell_type": "code",
   "execution_count": null,
   "id": "28465714",
   "metadata": {},
   "outputs": [],
   "source": []
  }
 ],
 "metadata": {
  "kernelspec": {
   "display_name": "Python 3 (ipykernel)",
   "language": "python",
   "name": "python3"
  },
  "language_info": {
   "codemirror_mode": {
    "name": "ipython",
    "version": 3
   },
   "file_extension": ".py",
   "mimetype": "text/x-python",
   "name": "python",
   "nbconvert_exporter": "python",
   "pygments_lexer": "ipython3",
   "version": "3.9.12"
  }
 },
 "nbformat": 4,
 "nbformat_minor": 5
}
