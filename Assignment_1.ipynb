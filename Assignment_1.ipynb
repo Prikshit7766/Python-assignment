{
 "cells": [
  {
   "cell_type": "markdown",
   "id": "54ef3eeb",
   "metadata": {},
   "source": [
    "question -https://drive.google.com/file/d/1RjQBjq90BeqNuon_JUlrih7Tnda732cs/view"
   ]
  },
  {
   "cell_type": "markdown",
   "id": "e75f8e6e",
   "metadata": {},
   "source": [
    "**1. In the below elements which of them are values or an expression? eg:- values can be integer or string and expressions will be mathematical operators.**"
   ]
  },
  {
   "cell_type": "code",
   "execution_count": null,
   "id": "7461476d",
   "metadata": {},
   "outputs": [],
   "source": [
    "\n",
    "  *\n",
    "\n",
    "'hello'\n",
    "\n",
    "-87.8\n",
    "\n",
    "  -\n",
    "\n",
    "/\n",
    "\n",
    "+\n",
    "\n",
    "6\n"
   ]
  },
  {
   "cell_type": "markdown",
   "id": "79335dbd",
   "metadata": {},
   "source": [
    "**answer** "
   ]
  },
  {
   "cell_type": "code",
   "execution_count": null,
   "id": "814988c8",
   "metadata": {},
   "outputs": [],
   "source": [
    "\n",
    "- values         'hello',-87.8,6\n",
    "\n",
    "- expression       - ,/ ,+ ,6\n",
    "        "
   ]
  },
  {
   "cell_type": "markdown",
   "id": "bf529226",
   "metadata": {},
   "source": [
    "**2. What is the difference between string and variable?**"
   ]
  },
  {
   "cell_type": "markdown",
   "id": "47e76920",
   "metadata": {},
   "source": [
    "**answer**\n",
    "- Python Variable is containers which store values. A variable is created the moment we first assign a value to it. A Python variable is a name given to a memory location.It is the basic unit of storage in a program.\n",
    "example , Var = 1\n",
    "\n",
    "- Strings are used for storing text/characters. For example, \"Hello World\" is a string of characters.The string type in Python is called str"
   ]
  },
  {
   "cell_type": "markdown",
   "id": "0865e21c",
   "metadata": {},
   "source": [
    "3. Describe three different data types.\n"
   ]
  },
  {
   "cell_type": "markdown",
   "id": "38f7559d",
   "metadata": {},
   "source": [
    "**answer**\n",
    "- Numeric data types: int, float, complex\n",
    "\n",
    "- String data types: str\n",
    "\n",
    "- Sequence types: list, tuple, range\n",
    "\n",
    "- Binary types: bytes, bytearray, memoryview\n",
    "\n",
    "- Mapping data type: dict\n",
    "\n",
    "- Boolean type: bool\n",
    "\n",
    "- Set data types: set, frozenset"
   ]
  },
  {
   "cell_type": "markdown",
   "id": "7cd1ff8a",
   "metadata": {},
   "source": [
    "**4. What is an expression made up of? What do all expressions do?**"
   ]
  },
  {
   "attachments": {},
   "cell_type": "markdown",
   "id": "d00197e0",
   "metadata": {},
   "source": [
    "**answer**\n",
    "- An expression in Python is a combination of operators and operands and an operand can be a constant, a variable or a function result. Operators are arithmetic, logical, and relational. \n",
    "- an expression is evaluated as per the precedence of its operators.\n",
    "\n"
   ]
  },
  {
   "cell_type": "markdown",
   "id": "bf815f40",
   "metadata": {},
   "source": [
    "**5. This assignment statements, like spam = 10. What is the difference between an expression and a statement?**"
   ]
  },
  {
   "cell_type": "markdown",
   "id": "a4de5cbe",
   "metadata": {},
   "source": [
    "**answer**\n",
    "\n",
    "A Statement is a action or a command that does something. Ex: If-Else,Loops..etc\n",
    "    \n",
    "An Expression is a combination of values, operators and literals which yields something.   "
   ]
  },
  {
   "cell_type": "markdown",
   "id": "d53d5ba5",
   "metadata": {},
   "source": [
    "**6. After running the following code, what does the variable bacon contain?**\n",
    "\n",
    "bacon = 22\n",
    "\n",
    "bacon + 1"
   ]
  },
  {
   "cell_type": "markdown",
   "id": "63bddf0b",
   "metadata": {},
   "source": [
    "**answer**\n",
    "\n",
    " 23"
   ]
  },
  {
   "cell_type": "markdown",
   "id": "21495783",
   "metadata": {},
   "source": [
    "**7. What should the values of the following two terms be?**\n",
    "\n",
    "'spam' + 'spamspam'\n",
    "\n",
    "'spam' * 3"
   ]
  },
  {
   "cell_type": "markdown",
   "id": "cdc69fc2",
   "metadata": {},
   "source": [
    "**answer**\n",
    "\n",
    "'spamspamspam'\n",
    "\n",
    "'spamspamspam'"
   ]
  },
  {
   "cell_type": "code",
   "execution_count": 4,
   "id": "fb60186d",
   "metadata": {},
   "outputs": [
    {
     "data": {
      "text/plain": [
       "'spamspamspam'"
      ]
     },
     "execution_count": 4,
     "metadata": {},
     "output_type": "execute_result"
    }
   ],
   "source": [
    "'spam' + 'spamspam'"
   ]
  },
  {
   "cell_type": "code",
   "execution_count": 5,
   "id": "e372a148",
   "metadata": {},
   "outputs": [
    {
     "data": {
      "text/plain": [
       "'spamspamspam'"
      ]
     },
     "execution_count": 5,
     "metadata": {},
     "output_type": "execute_result"
    }
   ],
   "source": [
    "'spam' * 3"
   ]
  },
  {
   "cell_type": "markdown",
   "id": "e13dda5f",
   "metadata": {},
   "source": [
    "**8. Why is eggs a valid variable name while 100 is invalid?**"
   ]
  },
  {
   "cell_type": "markdown",
   "id": "f411e08b",
   "metadata": {},
   "source": [
    "**answer**\n",
    "\n",
    "Rules for Python variables:\n",
    "\n",
    "- A variable name must start with a letter or the underscore character\n",
    "- A variable name cannot start with a number\n",
    "- A variable name can only contain alpha-numeric characters and underscores (A-z, 0-9, and _ )\n",
    "- Variable names are case-sensitive (age, Age and AGE are three different variables)"
   ]
  },
  {
   "cell_type": "markdown",
   "id": "00e1bc22",
   "metadata": {},
   "source": [
    "**9. What three functions can be used to get the integer, floating-point number, or string version of a value?**"
   ]
  },
  {
   "cell_type": "markdown",
   "id": "dd082f29",
   "metadata": {},
   "source": [
    "**answer**\n",
    "\n",
    "The int() , float() , and str( ) functions will evaluate to the integer, floating-point number, and string versions of the value passed to them."
   ]
  },
  {
   "cell_type": "markdown",
   "id": "d253a185",
   "metadata": {},
   "source": [
    "**10. Why does this expression cause an error? How can you fix it?**\n",
    "\n",
    "'I have eaten ' + 99 + ' burritos.'"
   ]
  },
  {
   "cell_type": "code",
   "execution_count": null,
   "id": "014c0fb9",
   "metadata": {},
   "outputs": [],
   "source": [
    "can only concatenate str and 99 is integer. To concatenate the above expression we have to first convert 99 to str by using str(99) "
   ]
  },
  {
   "cell_type": "code",
   "execution_count": 7,
   "id": "f248cd54",
   "metadata": {},
   "outputs": [
    {
     "data": {
      "text/plain": [
       "'I have eaten 99 burritos.'"
      ]
     },
     "execution_count": 7,
     "metadata": {},
     "output_type": "execute_result"
    }
   ],
   "source": [
    "'I have eaten ' + str(99) + ' burritos.'"
   ]
  },
  {
   "cell_type": "code",
   "execution_count": null,
   "id": "e8f60674",
   "metadata": {},
   "outputs": [],
   "source": []
  }
 ],
 "metadata": {
  "kernelspec": {
   "display_name": "Python 3 (ipykernel)",
   "language": "python",
   "name": "python3"
  },
  "language_info": {
   "codemirror_mode": {
    "name": "ipython",
    "version": 3
   },
   "file_extension": ".py",
   "mimetype": "text/x-python",
   "name": "python",
   "nbconvert_exporter": "python",
   "pygments_lexer": "ipython3",
   "version": "3.9.12"
  }
 },
 "nbformat": 4,
 "nbformat_minor": 5
}
