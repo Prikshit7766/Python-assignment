{
 "cells": [
  {
   "cell_type": "markdown",
   "id": "aa5bdc19",
   "metadata": {},
   "source": [
    "question -  https://drive.google.com/file/d/1zdWsymBu3P-L27CnBViY8MSeedeSc_2Y/view"
   ]
  },
  {
   "cell_type": "markdown",
   "id": "880af745",
   "metadata": {},
   "source": [
    "**1. What exactly is []?**\n"
   ]
  },
  {
   "cell_type": "markdown",
   "id": "0a2fb025",
   "metadata": {},
   "source": [
    "In Python, \"[]\" is used to represent an empty list. A list is a data structure that allows you to store a collection of values, such as numbers or strings, in a single variable. You can create an empty list in Python by simply using the square brackets: \"[]\".\n"
   ]
  },
  {
   "cell_type": "markdown",
   "id": "fdd28956",
   "metadata": {},
   "source": [
    "**2. In a list of values stored in a variable called spam, how would you assign the value &#39;hello&#39; as the\n",
    "third value? (Assume [2, 4, 6, 8, 10] are in spam.)\n",
    "Let&#39;s pretend the spam includes the list [&#39;a&#39;, &#39;b&#39;, &#39;c&#39;, &#39;d&#39;] for the next three queries.**\n"
   ]
  },
  {
   "cell_type": "markdown",
   "id": "5ed7882a",
   "metadata": {},
   "source": [
    "assign the value 'hello' as the third value (at index 2) in the following way:"
   ]
  },
  {
   "cell_type": "code",
   "execution_count": 2,
   "id": "2cea7812",
   "metadata": {},
   "outputs": [
    {
     "name": "stdout",
     "output_type": "stream",
     "text": [
      "2 4 hello 8 10\n"
     ]
    }
   ],
   "source": [
    "spam = [2, 4, 6, 8, 10]\n",
    "spam[2] = 'hello'\n",
    "print(*spam)"
   ]
  },
  {
   "cell_type": "code",
   "execution_count": 4,
   "id": "3130b863",
   "metadata": {},
   "outputs": [],
   "source": [
    "spam =  ['a', 'b', 'c', 'd']\n",
    "\n",
    "#Append the value 'e' to the end of the list\n",
    "spam.append('e')\n",
    "\n",
    "# Insert the value 'z' at index 2\n",
    "spam.insert(2, 'z')\n",
    "\n",
    "#Remove the value 'b' from the list\n",
    "spam.remove('b')"
   ]
  },
  {
   "cell_type": "markdown",
   "id": "0f4db9a0",
   "metadata": {},
   "source": [
    "**3. What is the value of spam[int(int(&#39;3&#39; * 2) / 11)]?**\n"
   ]
  },
  {
   "cell_type": "markdown",
   "id": "be6ff2ce",
   "metadata": {},
   "source": [
    "The value of `spam[int(int('3' * 2) / 11)]` is dependent on the contents of the `spam` list.\n"
   ]
  },
  {
   "cell_type": "code",
   "execution_count": 6,
   "id": "a259d75b",
   "metadata": {},
   "outputs": [
    {
     "data": {
      "text/plain": [
       "'d'"
      ]
     },
     "execution_count": 6,
     "metadata": {},
     "output_type": "execute_result"
    }
   ],
   "source": [
    "# for the time being \n",
    "spam =  ['a', 'b', 'c', 'd']\n",
    "spam[int(int('3' * 2) / 11)]"
   ]
  },
  {
   "cell_type": "markdown",
   "id": "ba439684",
   "metadata": {},
   "source": [
    "The expression int('3' * 2) concatenates two strings of '3' to form '33', and then converts it into an integer 33 using the int() function.\n",
    "\n",
    "Then, int('3' * 2) / 11 divides 33 by 11, resulting in the float value 3.0."
   ]
  },
  {
   "cell_type": "markdown",
   "id": "8809625e",
   "metadata": {},
   "source": [
    "**4. What is the value of spam[-1]?**\n"
   ]
  },
  {
   "cell_type": "code",
   "execution_count": 8,
   "id": "19e26dcd",
   "metadata": {},
   "outputs": [
    {
     "data": {
      "text/plain": [
       "'d'"
      ]
     },
     "execution_count": 8,
     "metadata": {},
     "output_type": "execute_result"
    }
   ],
   "source": [
    "spam[-1]\n",
    "\n",
    "#The index -1 refers to the last element in the spam list. \n",
    "#So, spam[-1] returns the last element of the spam list, which is equivalent to accessing the element at index len(spam)-1."
   ]
  },
  {
   "cell_type": "markdown",
   "id": "0011e523",
   "metadata": {},
   "source": [
    "**5. What is the value of spam[:2]?\n",
    "Let&#39;s pretend bacon has the list [3.14, &#39;cat,&#39; 11, &#39;cat,&#39; True] for the next three questions.**\n"
   ]
  },
  {
   "cell_type": "code",
   "execution_count": 9,
   "id": "e58af0c0",
   "metadata": {},
   "outputs": [
    {
     "name": "stdout",
     "output_type": "stream",
     "text": [
      "[3.14, 'cat']\n"
     ]
    }
   ],
   "source": [
    "bacon = [3.14, 'cat', 11, 'cat', True]\n",
    "#The slice [:2] is applied to the bacon list.\n",
    "sliced_bacon = bacon[:2]\n",
    "print(sliced_bacon)"
   ]
  },
  {
   "cell_type": "markdown",
   "id": "07b065ff",
   "metadata": {},
   "source": [
    "**6. What is the value of bacon.index(&#39;cat&#39;)?**\n"
   ]
  },
  {
   "cell_type": "code",
   "execution_count": 10,
   "id": "69869fc0",
   "metadata": {},
   "outputs": [
    {
     "name": "stdout",
     "output_type": "stream",
     "text": [
      "1\n"
     ]
    }
   ],
   "source": [
    "cat_index = bacon.index('cat')\n",
    "print(cat_index)"
   ]
  },
  {
   "cell_type": "markdown",
   "id": "542b1c6d",
   "metadata": {},
   "source": [
    "**7. How does bacon.append(99) change the look of the list value in bacon?**\n"
   ]
  },
  {
   "cell_type": "code",
   "execution_count": 11,
   "id": "4965627f",
   "metadata": {},
   "outputs": [
    {
     "name": "stdout",
     "output_type": "stream",
     "text": [
      "[3.14, 'cat', 11, 'cat', True, 99]\n"
     ]
    }
   ],
   "source": [
    "bacon.append(99)\n",
    "print(bacon)"
   ]
  },
  {
   "cell_type": "markdown",
   "id": "a988b618",
   "metadata": {},
   "source": [
    "**8. How does bacon.remove(&#39;cat&#39;) change the look of the list in bacon?**\n"
   ]
  },
  {
   "cell_type": "code",
   "execution_count": 12,
   "id": "0b6db87a",
   "metadata": {},
   "outputs": [
    {
     "name": "stdout",
     "output_type": "stream",
     "text": [
      "[3.14, 11, 'cat', True, 99]\n"
     ]
    }
   ],
   "source": [
    "bacon.remove('cat')\n",
    "print(bacon)\n"
   ]
  },
  {
   "cell_type": "markdown",
   "id": "d3c585d8",
   "metadata": {},
   "source": [
    "**9. What are the list concatenation and list replication operators?**\n"
   ]
  },
  {
   "cell_type": "code",
   "execution_count": 13,
   "id": "c347ea02",
   "metadata": {},
   "outputs": [
    {
     "name": "stdout",
     "output_type": "stream",
     "text": [
      "[1, 2, 3, 4, 5, 6]\n"
     ]
    }
   ],
   "source": [
    "# + operator can be used to concatenate two lists. \n",
    "list1 = [1, 2, 3]\n",
    "list2 = [4, 5, 6]\n",
    "concatenated_list = list1 + list2\n",
    "print(concatenated_list)"
   ]
  },
  {
   "cell_type": "code",
   "execution_count": 14,
   "id": "d47a173a",
   "metadata": {},
   "outputs": [
    {
     "name": "stdout",
     "output_type": "stream",
     "text": [
      "[1, 2, 3, 1, 2, 3, 1, 2, 3]\n"
     ]
    }
   ],
   "source": [
    "#* operator can be used to replicate a list. \n",
    "list1 = [1, 2, 3]\n",
    "replicated_list = list1 * 3\n",
    "print(replicated_list)"
   ]
  },
  {
   "cell_type": "markdown",
   "id": "dff63330",
   "metadata": {},
   "source": [
    "**10. What is difference between the list methods append() and insert()?**\n"
   ]
  },
  {
   "cell_type": "markdown",
   "id": "2b0544c7",
   "metadata": {},
   "source": [
    "`append()` method is used to add an element to the end of a list. It does not require an index as an argument, and the new element is added after the last element in the list."
   ]
  },
  {
   "cell_type": "code",
   "execution_count": 15,
   "id": "b1f19da2",
   "metadata": {},
   "outputs": [
    {
     "name": "stdout",
     "output_type": "stream",
     "text": [
      "[1, 2, 3, 4]\n"
     ]
    }
   ],
   "source": [
    "my_list = [1, 2, 3]\n",
    "my_list.append(4)\n",
    "print(my_list)\n"
   ]
  },
  {
   "cell_type": "markdown",
   "id": "e7cba15c",
   "metadata": {},
   "source": [
    "`insert()` method is used to add an element to a specific position in the list. It takes two arguments - the index where the new element should be inserted and the value of the new element."
   ]
  },
  {
   "cell_type": "code",
   "execution_count": 16,
   "id": "3449dd85",
   "metadata": {},
   "outputs": [
    {
     "name": "stdout",
     "output_type": "stream",
     "text": [
      "[1, 4, 2, 3]\n"
     ]
    }
   ],
   "source": [
    "my_list = [1, 2, 3]\n",
    "my_list.insert(1, 4)\n",
    "print(my_list)"
   ]
  },
  {
   "cell_type": "markdown",
   "id": "c6f3bda9",
   "metadata": {},
   "source": [
    "**11. What are the two methods for removing items from a list?**\n"
   ]
  },
  {
   "cell_type": "markdown",
   "id": "37b1dd0f",
   "metadata": {},
   "source": [
    "1. `remove()`: This method is used to remove the first occurrence of a specified value from a list. It takes a single argument, which is the value to be removed. If the value is not found in the list, a ValueError is raised.\n",
    "\n",
    "2. `pop()`: This method is used to remove an element from a specific position in the list. It takes an optional argument, which is the index of the element to be removed. If no argument is provided, it removes and returns the last element in the list."
   ]
  },
  {
   "cell_type": "code",
   "execution_count": 17,
   "id": "9747c4b8",
   "metadata": {},
   "outputs": [
    {
     "name": "stdout",
     "output_type": "stream",
     "text": [
      "[1, 2, 4, 3]\n"
     ]
    }
   ],
   "source": [
    "my_list = [1, 2, 3, 4, 3]\n",
    "my_list.remove(3)\n",
    "print(my_list)"
   ]
  },
  {
   "cell_type": "code",
   "execution_count": 20,
   "id": "04fe5c25",
   "metadata": {},
   "outputs": [
    {
     "name": "stdout",
     "output_type": "stream",
     "text": [
      "[1, 3, 4, 5, 1]\n"
     ]
    }
   ],
   "source": [
    "my_list = [1, 2, 3, 4, 5,1]\n",
    "my_list.pop(1)\n",
    "print(my_list)"
   ]
  },
  {
   "cell_type": "markdown",
   "id": "3e8d96f5",
   "metadata": {},
   "source": [
    "**12. Describe how list values and string values are identical.**\n"
   ]
  },
  {
   "cell_type": "markdown",
   "id": "257c2f7d",
   "metadata": {},
   "source": [
    "One of the main similarities between lists and strings is that they are both iterable."
   ]
  },
  {
   "cell_type": "code",
   "execution_count": 22,
   "id": "4159c598",
   "metadata": {},
   "outputs": [
    {
     "name": "stdout",
     "output_type": "stream",
     "text": [
      "1\n",
      "2\n",
      "3\n"
     ]
    }
   ],
   "source": [
    "my_list = [1, 2, 3]\n",
    "for item in my_list:\n",
    "    print(item)\n"
   ]
  },
  {
   "cell_type": "code",
   "execution_count": 21,
   "id": "e61a3403",
   "metadata": {},
   "outputs": [
    {
     "name": "stdout",
     "output_type": "stream",
     "text": [
      "h\n",
      "e\n",
      "l\n",
      "l\n",
      "o\n"
     ]
    }
   ],
   "source": [
    "my_string = \"hello\"\n",
    "for char in my_string:\n",
    "    print(char)\n"
   ]
  },
  {
   "cell_type": "markdown",
   "id": "b749bd83",
   "metadata": {},
   "source": [
    "**13. What&#39;s the difference between tuples and lists?**\n"
   ]
  },
  {
   "cell_type": "markdown",
   "id": "44047e4d",
   "metadata": {},
   "source": [
    "| Feature | Tuples | Lists |\n",
    "|---------|--------|-------|\n",
    "| Mutability | Immutable: cannot be modified after creation | Mutable: can be modified after creation |\n",
    "| Syntax | Created with parentheses () | Created with square brackets [] |\n",
    "| Length | Can contain any number of items | Can contain any number of items |\n",
    "| Speed | Slightly faster than lists for iteration and indexing | Slightly slower than tuples for iteration and indexing |\n",
    "| Memory Usage | Typically use less memory than lists | Typically use more memory than tuples |\n",
    "| Usage | Used for fixed, unchanging data | Used for dynamic, changing data |\n",
    "| Operations | Tuples support fewer built-in operations than lists | Lists support a wide range of built-in operations |\n"
   ]
  },
  {
   "cell_type": "markdown",
   "id": "677c9c4f",
   "metadata": {},
   "source": [
    "**14. How do you type a tuple value that only contains the integer 42?**\n"
   ]
  },
  {
   "cell_type": "code",
   "execution_count": null,
   "id": "1e8e5ed6",
   "metadata": {},
   "outputs": [],
   "source": [
    "my_tuple = (42,)"
   ]
  },
  {
   "cell_type": "markdown",
   "id": "2b40cf0e",
   "metadata": {},
   "source": [
    "Note that the comma is necessary even though there is only one element in the tuple. This is because parentheses alone do not create a tuple, the comma is required to differentiate a tuple from a regular expression enclosed in parentheses."
   ]
  },
  {
   "cell_type": "markdown",
   "id": "245ae86d",
   "metadata": {},
   "source": [
    "**15. How do you get a list value&#39;s tuple form? How do you get a tuple value&#39;s list form?**\n"
   ]
  },
  {
   "cell_type": "code",
   "execution_count": 23,
   "id": "80d76b9e",
   "metadata": {},
   "outputs": [
    {
     "name": "stdout",
     "output_type": "stream",
     "text": [
      "(1, 2, 3, 4, 5)\n"
     ]
    }
   ],
   "source": [
    "my_list = [1, 2, 3, 4, 5]\n",
    "my_tuple = tuple(my_list)\n",
    "print(my_tuple)  # Output: (1, 2, 3, 4, 5)"
   ]
  },
  {
   "cell_type": "code",
   "execution_count": 24,
   "id": "dcaf690f",
   "metadata": {},
   "outputs": [
    {
     "name": "stdout",
     "output_type": "stream",
     "text": [
      "[1, 2, 3, 4, 5]\n"
     ]
    }
   ],
   "source": [
    "my_tuple = (1, 2, 3, 4, 5)\n",
    "my_list = list(my_tuple)\n",
    "print(my_list)  # Output: [1, 2, 3, 4, 5]"
   ]
  },
  {
   "cell_type": "markdown",
   "id": "16bcee75",
   "metadata": {},
   "source": [
    "**16. Variables that &quot;contain&quot; list values are not necessarily lists themselves. Instead, what do they\n",
    "contain?**\n"
   ]
  },
  {
   "cell_type": "markdown",
   "id": "917e5f53",
   "metadata": {},
   "source": [
    "When we assign a list to a variable in Python, the variable is actually storing a reference to the memory location where the list object is stored. This means that multiple variables can reference the same list object, and changes made to the list through one variable will be reflected in all variables that reference the same list object."
   ]
  },
  {
   "cell_type": "code",
   "execution_count": 26,
   "id": "a622afb8",
   "metadata": {},
   "outputs": [
    {
     "name": "stdout",
     "output_type": "stream",
     "text": [
      "[2, 3, 4, 5]\n",
      "[2, 3, 4, 5]\n"
     ]
    }
   ],
   "source": [
    "my_list = [1, 2, 3, 4, 5]\n",
    "other_list = my_list\n",
    "other_list.remove(1)\n",
    "print(other_list)\n",
    "print(my_list)"
   ]
  },
  {
   "cell_type": "markdown",
   "id": "6e233555",
   "metadata": {},
   "source": [
    "**17. How do you distinguish between copy.copy() and copy.deepcopy()?**"
   ]
  },
  {
   "cell_type": "markdown",
   "id": "e5de64f0",
   "metadata": {},
   "source": [
    "The `copy` module in Python provides two functions for creating copies of objects: `copy()` and `deepcopy()`. Here's how you can distinguish between them:\n",
    "\n",
    "1. `copy()` creates a shallow copy of an object, which means that a new object is created but its contents are still references to the same objects as the original. \n",
    "\n",
    "2. `deepcopy()` creates a deep copy of an object, which means that a new object is created with a completely new set of contents that are not references to the original objects.\n"
   ]
  },
  {
   "cell_type": "code",
   "execution_count": 28,
   "id": "94bb3d64",
   "metadata": {},
   "outputs": [
    {
     "name": "stdout",
     "output_type": "stream",
     "text": [
      "Original list: [1, 2, [3, 4, 5, 6]]\n",
      "Shallow copy: [1, 2, [3, 4, 5, 6]]\n",
      "Deep copy: [1, 2, [3, 4]]\n"
     ]
    }
   ],
   "source": [
    "import copy\n",
    "\n",
    "original_list = [1, 2, [3, 4]]\n",
    "shallow_copy = copy.copy(original_list)\n",
    "deep_copy = copy.deepcopy(original_list)\n",
    "\n",
    "# Modify the original list and the shallow copy\n",
    "original_list[2].append(5)\n",
    "shallow_copy[2].append(6)\n",
    "\n",
    "print(\"Original list:\", original_list)\n",
    "print(\"Shallow copy:\", shallow_copy)\n",
    "print(\"Deep copy:\", deep_copy)\n"
   ]
  },
  {
   "cell_type": "code",
   "execution_count": null,
   "id": "d9365116",
   "metadata": {},
   "outputs": [],
   "source": []
  }
 ],
 "metadata": {
  "kernelspec": {
   "display_name": "Python 3 (ipykernel)",
   "language": "python",
   "name": "python3"
  },
  "language_info": {
   "codemirror_mode": {
    "name": "ipython",
    "version": 3
   },
   "file_extension": ".py",
   "mimetype": "text/x-python",
   "name": "python",
   "nbconvert_exporter": "python",
   "pygments_lexer": "ipython3",
   "version": "3.7.15"
  }
 },
 "nbformat": 4,
 "nbformat_minor": 5
}
