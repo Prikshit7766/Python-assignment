{
 "cells": [
  {
   "cell_type": "markdown",
   "id": "7e3dd9af",
   "metadata": {},
   "source": [
    "question -  https://drive.google.com/file/d/1vU3MvFrIILi8Ma57Ft0MzF_PzYxoIH5Y/view"
   ]
  },
  {
   "cell_type": "markdown",
   "id": "5c1d5fbc",
   "metadata": {},
   "source": [
    "**1. Why are functions advantageous to have in your programs?**"
   ]
  },
  {
   "cell_type": "markdown",
   "id": "fabc3a7a",
   "metadata": {},
   "source": [
    "- Functions are advantageous to have in programs for several reasons:\n",
    "\n",
    "1. Reusability: Functions allow you to write a block of code once and use it repeatedly in different parts of your program. This saves time and effort and makes your code more efficient and manageable.\n",
    "\n",
    "2. Modularity: By breaking down your program into smaller, self-contained functions, you can organize your code into logical and functional components. This makes it easier to understand and maintain your code.\n",
    "\n",
    "3. Abstraction: Functions allow you to hide the details of a complex algorithm or process behind a simple and easy-to-use interface. This abstraction helps to make your code more understandable and user-friendly.\n",
    "\n",
    "4. Debugging: By isolating specific blocks of code in functions, it makes it easier to debug and troubleshoot errors. If a function is not working as expected, you can focus your efforts on that specific function instead of having to comb through the entire program.\n",
    "\n",
    "5. Testing: Functions make it easier to test your code because you can test each function individually, ensuring that it works correctly before integrating it into the rest of the program.\n",
    "\n",
    "Overall, functions improve the organization, maintainability, and efficiency of your code.\n"
   ]
  },
  {
   "cell_type": "markdown",
   "id": "37c9c44a",
   "metadata": {},
   "source": [
    "**2. When does the code in a function run: when it&#39;s specified or when it&#39;s called?**"
   ]
  },
  {
   "cell_type": "markdown",
   "id": "bcac6d27",
   "metadata": {},
   "source": [
    "- The code in a function runs when the function is called, not when it is specified. \n",
    "\n",
    "When a function is defined, the code inside it is not executed immediately. Instead, it is stored in memory, and the function is created as an object with a unique name. This process is called \"defining\" or \"declaring\" a function.\n",
    "\n",
    "When the function is called in the program, either by using its name followed by parentheses or by referencing it from another part of the program, the code inside the function is executed. The arguments (if any) that are passed to the function are evaluated, and the resulting values are used within the function.\n",
    "\n",
    "Once the function has finished executing, it returns a value (if specified), and control is passed back to the point in the program where the function was called. At this point, the function object still exists in memory and can be called again with different arguments if needed.\n",
    "\n",
    "So, to summarize, the code in a function runs when it's called, not when it's specified. The code is executed every time the function is called, and not before.\n"
   ]
  },
  {
   "cell_type": "markdown",
   "id": "3629adb9",
   "metadata": {},
   "source": [
    "**3. What statement creates a function?**"
   ]
  },
  {
   "cell_type": "markdown",
   "id": "739e2e65",
   "metadata": {},
   "source": [
    "To create a function in Python, you use the def statement followed by the name of the function and a set of parentheses that may contain parameters (inputs) to the function."
   ]
  },
  {
   "cell_type": "code",
   "execution_count": 2,
   "id": "6fbdbe09",
   "metadata": {},
   "outputs": [],
   "source": [
    "\n",
    "def add_numbers(x, y):\n",
    "    sum = x + y\n",
    "    return sum\n",
    "# def statement creates the function add_numbers with two parameters x and y"
   ]
  },
  {
   "cell_type": "markdown",
   "id": "c4000225",
   "metadata": {},
   "source": [
    "**4. What is the difference between a function and a function call?**"
   ]
  },
  {
   "cell_type": "markdown",
   "id": "e21b34b8",
   "metadata": {},
   "source": [
    "A function is a block of code that performs a specific task and can be reused throughout a program. It is defined using the `def` keyword, followed by the function name and a set of parentheses that may contain parameters (inputs) to the function. The code block that makes up the function's body is indented beneath the `def` statement.\n",
    "\n",
    "A function call, on the other hand, is when the function is actually executed or invoked. This is done by using the function name followed by parentheses containing any arguments (inputs) to the function. The arguments are then passed to the function, and the code inside the function is executed. Once the function has finished executing, it may return a value to the calling statement, which can then be used as desired.\n",
    "\n",
    "In summary, a function is a reusable block of code that performs a specific task, while a function call is the actual execution of that function with specific inputs.\n"
   ]
  },
  {
   "cell_type": "markdown",
   "id": "c7a1608f",
   "metadata": {},
   "source": [
    "**5. How many global scopes are there in a Python program? How many local scopes?**"
   ]
  },
  {
   "cell_type": "markdown",
   "id": "dc717eef",
   "metadata": {},
   "source": [
    "\n",
    "\n",
    "In a Python program, there is only one global scope that exists throughout the entire program. This means that any variable or function defined outside of a function or class definition belongs to the global scope and can be accessed from anywhere in the program.\n",
    "\n",
    "On the other hand, local scopes are created whenever a function is called, and they include any variables or functions defined within that function. These variables and functions are only accessible within that function's scope, and they are destroyed when the function completes its execution.\n",
    "\n",
    "It's important to note that local scopes can also be nested within other local scopes. This means that if a function is defined within another function, it will have access to the local variables and functions of its parent function as well as its own local variables and functions.\n",
    "\n",
    "In summary, there is only one global scope in a Python program, while local scopes are created whenever a function is called and can be nested within each other.\n"
   ]
  },
  {
   "cell_type": "markdown",
   "id": "57e560b8",
   "metadata": {},
   "source": [
    "**6. What happens to variables in a local scope when the function call returns?**"
   ]
  },
  {
   "cell_type": "markdown",
   "id": "6d9a848f",
   "metadata": {},
   "source": [
    "When a function call returns in Python, any variables that were defined in the local scope of that function are destroyed and their values are lost. This is because local scopes are created whenever a function is called and are destroyed when the function completes its execution.\n",
    "\n",
    "For example, consider the following function that defines a local variable:\n",
    "\n"
   ]
  },
  {
   "cell_type": "code",
   "execution_count": 6,
   "id": "50eb9f16",
   "metadata": {},
   "outputs": [],
   "source": [
    "\n",
    "def my_function():\n",
    "    x = 10\n",
    "    print(x)"
   ]
  },
  {
   "cell_type": "code",
   "execution_count": 7,
   "id": "809fe11e",
   "metadata": {},
   "outputs": [
    {
     "name": "stdout",
     "output_type": "stream",
     "text": [
      "10\n"
     ]
    },
    {
     "ename": "NameError",
     "evalue": "name 'x' is not defined",
     "output_type": "error",
     "traceback": [
      "\u001b[1;31m---------------------------------------------------------------------------\u001b[0m",
      "\u001b[1;31mNameError\u001b[0m                                 Traceback (most recent call last)",
      "\u001b[1;32m~\\AppData\\Local\\Temp\\ipykernel_15840\\1552355670.py\u001b[0m in \u001b[0;36m<module>\u001b[1;34m\u001b[0m\n\u001b[0;32m      1\u001b[0m \u001b[0mmy_function\u001b[0m\u001b[1;33m(\u001b[0m\u001b[1;33m)\u001b[0m \u001b[1;31m# Output: 10\u001b[0m\u001b[1;33m\u001b[0m\u001b[1;33m\u001b[0m\u001b[0m\n\u001b[1;32m----> 2\u001b[1;33m \u001b[0mprint\u001b[0m\u001b[1;33m(\u001b[0m\u001b[0mx\u001b[0m\u001b[1;33m)\u001b[0m \u001b[1;31m# Raises NameError: name 'x' is not defined\u001b[0m\u001b[1;33m\u001b[0m\u001b[1;33m\u001b[0m\u001b[0m\n\u001b[0m",
      "\u001b[1;31mNameError\u001b[0m: name 'x' is not defined"
     ]
    }
   ],
   "source": [
    "my_function() # Output: 10\n",
    "print(x) # Raises NameError: name 'x' is not defined"
   ]
  },
  {
   "cell_type": "markdown",
   "id": "25f1afc8",
   "metadata": {},
   "source": [
    "**7. What is the concept of a return value? Is it possible to have a return value in an expression?**"
   ]
  },
  {
   "cell_type": "markdown",
   "id": "c30b81b2",
   "metadata": {},
   "source": [
    "In Python, a return value is the value that a function returns when it completes its execution. The concept of a return value is used to allow a function to send data back to the code that called it, which can then use that data to perform some other operation or make decisions based on the value.\n",
    "\n",
    "To specify a return value in a Python function, the `return` statement is used. The `return` statement specifies the value that the function should return when it completes its execution. If no `return` statement is included in a function, then the function returns `None` by default.\n",
    "\n",
    "Here's an example of a function that returns a value:"
   ]
  },
  {
   "cell_type": "code",
   "execution_count": 8,
   "id": "0b69d475",
   "metadata": {},
   "outputs": [],
   "source": [
    "def add_numbers(x, y):\n",
    "    result = x + y\n",
    "    return result"
   ]
  },
  {
   "cell_type": "code",
   "execution_count": 10,
   "id": "10251848",
   "metadata": {},
   "outputs": [
    {
     "data": {
      "text/plain": [
       "30"
      ]
     },
     "execution_count": 10,
     "metadata": {},
     "output_type": "execute_result"
    }
   ],
   "source": [
    "result = add_numbers(5, 10) * 2\n",
    "result"
   ]
  },
  {
   "cell_type": "markdown",
   "id": "230b415f",
   "metadata": {},
   "source": [
    "**8. If a function does not have a return statement, what is the return value of a call to that function?**"
   ]
  },
  {
   "cell_type": "markdown",
   "id": "5955f73a",
   "metadata": {},
   "source": [
    "\n",
    "\n",
    "If a function does not have a `return` statement, the return value of a call to that function is `None`. In Python, if a function completes its execution without encountering a `return` statement, it automatically returns `None` by default.\n",
    "\n",
    "Here's an example of a function that does not have a `return` statement:\n",
    "\n"
   ]
  },
  {
   "cell_type": "code",
   "execution_count": 11,
   "id": "78c311d1",
   "metadata": {},
   "outputs": [],
   "source": [
    "def greet(name):\n",
    "    print(f\"Hello, {name}!\")"
   ]
  },
  {
   "cell_type": "code",
   "execution_count": 12,
   "id": "896fc19c",
   "metadata": {},
   "outputs": [
    {
     "name": "stdout",
     "output_type": "stream",
     "text": [
      "Hello, Alice!\n",
      "None\n"
     ]
    }
   ],
   "source": [
    "result = greet(\"Alice\")\n",
    "print(result)  # Output: None"
   ]
  },
  {
   "cell_type": "markdown",
   "id": "e661ac7b",
   "metadata": {},
   "source": [
    "**9. How do you make a function variable refer to the global variable?**"
   ]
  },
  {
   "cell_type": "markdown",
   "id": "fab16173",
   "metadata": {},
   "source": [
    "In Python, you can make a function variable refer to a global variable by using the `global` keyword to declare the variable as global inside the function. This tells the interpreter to use the global variable instead of creating a new local variable with the same name.\n",
    "\n",
    "Here's an example:\n"
   ]
  },
  {
   "cell_type": "code",
   "execution_count": 13,
   "id": "a84ce650",
   "metadata": {},
   "outputs": [
    {
     "name": "stdout",
     "output_type": "stream",
     "text": [
      "15\n",
      "15\n"
     ]
    }
   ],
   "source": [
    "x = 10\n",
    "\n",
    "def my_function():\n",
    "    global x\n",
    "    x += 5\n",
    "    print(x)\n",
    "\n",
    "my_function()   # Output: 15\n",
    "print(x)        # Output: 15"
   ]
  },
  {
   "cell_type": "markdown",
   "id": "39b0165d",
   "metadata": {},
   "source": [
    "**10. What is the data type of None?**"
   ]
  },
  {
   "cell_type": "markdown",
   "id": "964fba3c",
   "metadata": {},
   "source": [
    "In Python, `None` is a built-in constant object that represents the absence of a value or a null value. It is often used to indicate the absence of a return value from a function or method. \n",
    "\n",
    "`None` is a data type of its own, which is called `NoneType`. It is a singleton object, which means that there is only one instance of the `NoneType` object in a given Python interpreter session.\n",
    "\n",
    "Here's an example of using `None` as a return value from a function:"
   ]
  },
  {
   "cell_type": "code",
   "execution_count": 14,
   "id": "03022d4f",
   "metadata": {},
   "outputs": [
    {
     "name": "stdout",
     "output_type": "stream",
     "text": [
      "None\n"
     ]
    }
   ],
   "source": [
    "def do_nothing():\n",
    "    pass\n",
    "\n",
    "result = do_nothing()\n",
    "print(result)   # Output: None\n"
   ]
  },
  {
   "cell_type": "markdown",
   "id": "7d88ee01",
   "metadata": {},
   "source": [
    "**11. What does the sentence import areallyourpetsnamederic do?**"
   ]
  },
  {
   "cell_type": "markdown",
   "id": "e99e5562",
   "metadata": {},
   "source": [
    "The sentence `import areallyourpetsnamederic` is not a meaningful Python statement. It is not a built-in Python module or package, and it is not a valid name for a user-defined module or package.\n",
    "\n",
    "In Python, the `import` statement is used to load modules or packages into a program's namespace, so that their functions, classes, and variables can be used in the program. For example, the following statement imports the built-in `math` module, which provides functions for mathematical operations:\n",
    "\n",
    "```python\n",
    "import math\n",
    "\n",
    "x = math.sqrt(25)\n",
    "print(x)    # Output: 5.0\n"
   ]
  },
  {
   "cell_type": "markdown",
   "id": "3651cdf0",
   "metadata": {},
   "source": [
    "**12. If you had a bacon() feature in a spam module, what would you call it after importing spam?**"
   ]
  },
  {
   "cell_type": "markdown",
   "id": "f488b0d3",
   "metadata": {},
   "source": [
    "If a module named `spam` contains a function named `bacon()`, you can call it after importing the `spam` module using the dot notation. "
   ]
  },
  {
   "cell_type": "code",
   "execution_count": null,
   "id": "daf045b5",
   "metadata": {},
   "outputs": [],
   "source": [
    "import spam\n",
    "\n",
    "result = spam.bacon()"
   ]
  },
  {
   "cell_type": "markdown",
   "id": "b24a409d",
   "metadata": {},
   "source": [
    "**13. What can you do to save a programme from crashing if it encounters an error?**"
   ]
  },
  {
   "cell_type": "markdown",
   "id": "5ac4ae36",
   "metadata": {},
   "source": [
    "To save a program from crashing when it encounters an error, you can use exception handling in your code. Exception handling allows you to catch and handle errors that might occur during the execution of your program.\n",
    "\n",
    "In Python, you can use a `try...except` block to catch and handle exceptions. The `try` block contains the code that might raise an exception, while the `except` block contains the code that handles the exception. \n"
   ]
  },
  {
   "cell_type": "code",
   "execution_count": 16,
   "id": "7b74da79",
   "metadata": {},
   "outputs": [
    {
     "name": "stdout",
     "output_type": "stream",
     "text": [
      "Result is: 0\n"
     ]
    }
   ],
   "source": [
    "try:\n",
    "    # Code that might raise an exception\n",
    "    result = 10 / 0\n",
    "except ZeroDivisionError:\n",
    "    # Code that handles the exception\n",
    "    result = 0\n",
    "finally:\n",
    "    # Code that is executed regardless of whether an exception is raised\n",
    "    print(\"Result is:\", result)"
   ]
  },
  {
   "cell_type": "markdown",
   "id": "b4cffcf6",
   "metadata": {},
   "source": [
    "**14. What is the purpose of the try clause? What is the purpose of the except clause?**"
   ]
  },
  {
   "cell_type": "markdown",
   "id": "f1f5a3bd",
   "metadata": {},
   "source": [
    "The `try` and `except` clauses in Python are used for handling exceptions, which are errors that occur during the execution of a program. The purpose of the `try` clause is to enclose the code that may raise an exception, so that if an exception is raised during the execution of that code, the program can gracefully handle the error and continue running.\n",
    "\n",
    "The `except` clause is used to specify what should happen if an exception is raised in the `try` clause. The code within the `except` clause will be executed only if an exception is raised in the corresponding `try` block. The `except` clause can be used to catch specific types of exceptions, such as `ValueError` or `TypeError`, or to catch all exceptions using the `Exception` keyword.\n",
    "\n",
    "In summary, the `try` and `except` clauses allow us to handle errors and exceptions in a way that prevents the program from crashing and provides a way to gracefully recover from errors.\n"
   ]
  },
  {
   "cell_type": "code",
   "execution_count": null,
   "id": "68f6e9e0",
   "metadata": {},
   "outputs": [],
   "source": []
  }
 ],
 "metadata": {
  "kernelspec": {
   "display_name": "Python 3 (ipykernel)",
   "language": "python",
   "name": "python3"
  },
  "language_info": {
   "codemirror_mode": {
    "name": "ipython",
    "version": 3
   },
   "file_extension": ".py",
   "mimetype": "text/x-python",
   "name": "python",
   "nbconvert_exporter": "python",
   "pygments_lexer": "ipython3",
   "version": "3.7.15"
  }
 },
 "nbformat": 4,
 "nbformat_minor": 5
}
