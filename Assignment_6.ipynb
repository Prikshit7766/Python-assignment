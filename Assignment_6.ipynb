{
 "cells": [
  {
   "cell_type": "markdown",
   "id": "ae4bc07d",
   "metadata": {},
   "source": [
    "question - https://drive.google.com/file/d/1QWVvv8aC4OcCHRHhXI2eY6l1K7Y60V2J/view"
   ]
  },
  {
   "cell_type": "markdown",
   "id": "a06a5373",
   "metadata": {},
   "source": [
    "**1. What are escape characters, and how do you use them?**\n"
   ]
  },
  {
   "cell_type": "markdown",
   "id": "df3a9ed5",
   "metadata": {},
   "source": [
    "**Escape characters** are special characters used to represent certain actions or characters that are difficult to type directly in a string. They are represented by a backslash (`\\`) followed by a specific character. \n",
    "\n",
    "Here are some common escape characters and their usage:\n",
    "\n",
    "- `\\n` represents a newline character, which creates a new line in the string.\n",
    "- `\\t` represents a tab character, which adds horizontal spacing in the string.\n",
    "- `\\'` represents a single quotation mark.\n",
    "- `\\\"` represents a double quotation mark.\n",
    "- `\\\\` represents a single backslash character.\n",
    "\n"
   ]
  },
  {
   "cell_type": "code",
   "execution_count": 1,
   "id": "6f4f0d13",
   "metadata": {},
   "outputs": [
    {
     "name": "stdout",
     "output_type": "stream",
     "text": [
      "Hello\n",
      "World\n",
      "Hello\tWorld\n",
      "I'm learning Python\n",
      "She said, \"Hello!\"\n",
      "C:\\path\\to\\file\n"
     ]
    }
   ],
   "source": [
    "print(\"Hello\\nWorld\")  # Output: Hello\n",
    "                        #         World\n",
    "\n",
    "print(\"Hello\\tWorld\")  # Output: Hello   World\n",
    "\n",
    "print('I\\'m learning Python')  # Output: I'm learning Python\n",
    "\n",
    "print(\"She said, \\\"Hello!\\\"\")  # Output: She said, \"Hello!\"\n",
    "\n",
    "print(\"C:\\\\path\\\\to\\\\file\")  # Output: C:\\path\\to\\file\n"
   ]
  },
  {
   "cell_type": "markdown",
   "id": "5207a90d",
   "metadata": {},
   "source": [
    "**2. What do the escape characters n and t stand for?**\n"
   ]
  },
  {
   "cell_type": "markdown",
   "id": "cd5a3561",
   "metadata": {},
   "source": [
    "In Python, the escape character `\\n` represents a newline character, and the escape character `\\t` represents a tab character.\n",
    "\n",
    "- `\\n` is used to create a new line within a string. When encountered in a string, it inserts a line break, starting the text on a new line. This is commonly used to format text or display information in separate lines.\n",
    "\n",
    "- `\\t` is used to insert a horizontal tab within a string. It adds horizontal spacing, similar to pressing the tab key on a keyboard. This can be useful for aligning text or creating an indented structure.\n"
   ]
  },
  {
   "cell_type": "code",
   "execution_count": 2,
   "id": "7a6cd024",
   "metadata": {},
   "outputs": [
    {
     "name": "stdout",
     "output_type": "stream",
     "text": [
      "Hello\n",
      "World\n",
      "Name:\tJohn\n"
     ]
    }
   ],
   "source": [
    "print(\"Hello\\nWorld\")  # Output: Hello\n",
    "                        #         World\n",
    "\n",
    "print(\"Name:\\tJohn\")   # Output: Name:    John\n"
   ]
  },
  {
   "cell_type": "markdown",
   "id": "1cdca5d0",
   "metadata": {},
   "source": [
    "\n",
    "**3. What is the way to include backslash characters in a string?**\n"
   ]
  },
  {
   "cell_type": "code",
   "execution_count": 4,
   "id": "b32c348c",
   "metadata": {},
   "outputs": [
    {
     "name": "stdout",
     "output_type": "stream",
     "text": [
      "This is a backslash: \\\n"
     ]
    }
   ],
   "source": [
    "text = \"This is a backslash: \\\\\"\n",
    "print(text)  # Output: This is a backslash: \\\n",
    "# the double backslash \\\\ is used to represent a single backslash character in the string. When the string is printed, it will display the backslash as intended."
   ]
  },
  {
   "cell_type": "markdown",
   "id": "111007fc",
   "metadata": {},
   "source": [
    "\n",
    "**4. The string &quot;Howl&#39;s Moving Castle&quot; is a correct value. Why isn&#39;t the single quote character in the\n",
    "word Howl&#39;s not escaped a problem?**\n"
   ]
  },
  {
   "cell_type": "markdown",
   "id": "dfd11423",
   "metadata": {},
   "source": [
    "The single quote character within the string \"Howl's Moving Castle\" is not causing any issues because the string itself is enclosed in double quotation marks (`\"`). In Python, you can use either single quotes (`'`) or double quotes (`\"`) to define string literals. When a string is enclosed in quotes, Python treats everything between the opening and closing quotes as part of the string, including any special characters or punctuation marks."
   ]
  },
  {
   "cell_type": "code",
   "execution_count": 5,
   "id": "962d28af",
   "metadata": {},
   "outputs": [
    {
     "name": "stdout",
     "output_type": "stream",
     "text": [
      "Howl's Moving Castle\n"
     ]
    }
   ],
   "source": [
    "title = \"Howl's Moving Castle\"\n",
    "print(title)  # Output: Howl's Moving Castle\n"
   ]
  },
  {
   "cell_type": "markdown",
   "id": "a3f017a5",
   "metadata": {},
   "source": [
    "**5. How do you write a string of newlines if you don&#39;t want to use the n character?**\n"
   ]
  },
  {
   "cell_type": "markdown",
   "id": "456e9605",
   "metadata": {},
   "source": [
    "**1. Triple Quotes**"
   ]
  },
  {
   "cell_type": "code",
   "execution_count": 10,
   "id": "2f5765ef",
   "metadata": {},
   "outputs": [
    {
     "name": "stdout",
     "output_type": "stream",
     "text": [
      "This is a string\n",
      "that spans multiple lines\n",
      "without using the \n",
      " character.\n"
     ]
    }
   ],
   "source": [
    "text = \"\"\"This is a string\n",
    "that spans multiple lines\n",
    "without using the \\n character.\"\"\"\n",
    "print(text)"
   ]
  },
  {
   "cell_type": "markdown",
   "id": "901bc76f",
   "metadata": {},
   "source": [
    "**2. Concatenation**"
   ]
  },
  {
   "cell_type": "code",
   "execution_count": 8,
   "id": "9b05ea40",
   "metadata": {},
   "outputs": [
    {
     "name": "stdout",
     "output_type": "stream",
     "text": [
      "This is the first line.\n",
      "This is the second line.\n",
      "This is the third line.\n"
     ]
    }
   ],
   "source": [
    "line1 = \"This is the first line.\"\n",
    "line2 = \"This is the second line.\"\n",
    "line3 = \"This is the third line.\"\n",
    "text = line1 + \"\\n\" + line2 + \"\\n\" + line3\n",
    "print(text)"
   ]
  },
  {
   "cell_type": "markdown",
   "id": "292e2272",
   "metadata": {},
   "source": [
    "**6. What are the values of the given expressions?**\n",
    "\n",
    "**&#39;Hello, world!&#39;[1]**\n",
    "\n",
    "**&#39;Hello, world!&#39;[0:5]**\n",
    "\n",
    "**&#39;Hello, world!&#39;[:5]**\n",
    "\n",
    "**&#39;Hello, world!&#39;[3:]**\n",
    "\n"
   ]
  },
  {
   "cell_type": "code",
   "execution_count": 14,
   "id": "d6c8b7df",
   "metadata": {},
   "outputs": [
    {
     "data": {
      "text/plain": [
       "'e'"
      ]
     },
     "execution_count": 14,
     "metadata": {},
     "output_type": "execute_result"
    }
   ],
   "source": [
    "'Hello, world!'[1] #This expression retrieves the character at index 1 from the string `'Hello, world!'`."
   ]
  },
  {
   "cell_type": "code",
   "execution_count": 15,
   "id": "50d03f61",
   "metadata": {},
   "outputs": [
    {
     "data": {
      "text/plain": [
       "'Hello'"
      ]
     },
     "execution_count": 15,
     "metadata": {},
     "output_type": "execute_result"
    }
   ],
   "source": [
    "'Hello, world!'[0:5] #The substring includes characters from index 0 up to, but not including, index 5."
   ]
  },
  {
   "cell_type": "code",
   "execution_count": 16,
   "id": "cfdfcbb9",
   "metadata": {},
   "outputs": [
    {
     "data": {
      "text/plain": [
       "'Hello'"
      ]
     },
     "execution_count": 16,
     "metadata": {},
     "output_type": "execute_result"
    }
   ],
   "source": [
    "'Hello, world!'[:5]  #The substring includes characters from the beginning of the string up to, but not including, index 5."
   ]
  },
  {
   "cell_type": "code",
   "execution_count": 17,
   "id": "190a1ee3",
   "metadata": {},
   "outputs": [
    {
     "data": {
      "text/plain": [
       "'lo, world!'"
      ]
     },
     "execution_count": 17,
     "metadata": {},
     "output_type": "execute_result"
    }
   ],
   "source": [
    "'Hello, world!'[3:] #The substring includes characters from index 3 until the end of the string."
   ]
  },
  {
   "cell_type": "markdown",
   "id": "ea80515c",
   "metadata": {},
   "source": [
    "**7. What are the values of the following expressions?**\n",
    "\n",
    "**&#39;Hello&#39;.upper()**\n",
    "\n",
    "**&#39;Hello&#39;.upper().isupper()**\n",
    "\n",
    "**&#39;Hello&#39;.upper().lower()**\n"
   ]
  },
  {
   "cell_type": "code",
   "execution_count": 18,
   "id": "c4ad01bc",
   "metadata": {},
   "outputs": [
    {
     "data": {
      "text/plain": [
       "'HELLO'"
      ]
     },
     "execution_count": 18,
     "metadata": {},
     "output_type": "execute_result"
    }
   ],
   "source": [
    "'Hello'.upper() #This expression converts the string 'Hello' to uppercase using the upper() method."
   ]
  },
  {
   "cell_type": "code",
   "execution_count": 19,
   "id": "3d048cac",
   "metadata": {},
   "outputs": [
    {
     "data": {
      "text/plain": [
       "True"
      ]
     },
     "execution_count": 19,
     "metadata": {},
     "output_type": "execute_result"
    }
   ],
   "source": [
    "'Hello'.upper().isupper()\n",
    "#First, 'Hello' is converted to uppercase using the upper() method, resulting in 'HELLO'.\n",
    "#Then, the isupper() method is called on 'HELLO' to check if all characters are in uppercase."
   ]
  },
  {
   "cell_type": "code",
   "execution_count": 21,
   "id": "cd2914b2",
   "metadata": {},
   "outputs": [
    {
     "data": {
      "text/plain": [
       "'hello'"
      ]
     },
     "execution_count": 21,
     "metadata": {},
     "output_type": "execute_result"
    }
   ],
   "source": [
    "'Hello'.upper().lower()\n",
    "#First, 'Hello' is converted to uppercase using the upper() method, resulting in 'HELLO'.\n",
    "#Then, the lower() method is called on 'HELLO' to convert it back to lowercase."
   ]
  },
  {
   "cell_type": "markdown",
   "id": "f6bb2d6a",
   "metadata": {},
   "source": [
    "**8. What are the values of the following expressions?**\n",
    "\n",
    "**&#39;Remember, remember, the fifth of July.&#39;.split()**\n",
    "\n",
    "**&#39;-&#39;.join(&#39;There can only one.&#39;.split())**\n"
   ]
  },
  {
   "cell_type": "code",
   "execution_count": 23,
   "id": "a279ceaf",
   "metadata": {},
   "outputs": [
    {
     "data": {
      "text/plain": [
       "['Remember,', 'remember,', 'the', 'fifth', 'of', 'July.']"
      ]
     },
     "execution_count": 23,
     "metadata": {},
     "output_type": "execute_result"
    }
   ],
   "source": [
    "'Remember, remember, the fifth of July.'.split()\n",
    "#This expression splits the string 'Remember, remember, the fifth of July.' into a list of substrings based on whitespace."
   ]
  },
  {
   "cell_type": "code",
   "execution_count": 24,
   "id": "52d859f6",
   "metadata": {},
   "outputs": [
    {
     "data": {
      "text/plain": [
       "'There-can-only-one.'"
      ]
     },
     "execution_count": 24,
     "metadata": {},
     "output_type": "execute_result"
    }
   ],
   "source": [
    "'-'.join('There can only one.'.split())\n",
    "#This expression splits the string 'There can only one.' into a list of substrings based on whitespace using the split() method.\n",
    "#The resulting list contains individual words: ['There', 'can', 'only', 'one.'].\n",
    "#The join() method is then used to join the elements of the list using '-' as the separator."
   ]
  },
  {
   "cell_type": "markdown",
   "id": "2a102011",
   "metadata": {},
   "source": [
    "**9. What are the methods for right-justifying, left-justifying, and centering a string?**\n"
   ]
  },
  {
   "cell_type": "markdown",
   "id": "7cace698",
   "metadata": {},
   "source": [
    "To right-justify, left-justify, and center a string in Python, you can use the following methods:\n",
    "\n",
    "1. **Right-justifying a string**: `str.rjust(width, fillchar)`\n",
    "   - This method right-justifies a string by adding spaces or a specified fill character (`fillchar`) to the left side of the string until it reaches the specified width.\n",
    "   - The `width` parameter is an integer that represents the total width of the resulting string.\n",
    "   - The `fillchar` parameter is optional and represents the character used for filling. If not provided, spaces are used as the default fill character.\n",
    "\n",
    "2. **Left-justifying a string**: `str.ljust(width, fillchar)`\n",
    "   - This method left-justifies a string by adding spaces or a specified fill character (`fillchar`) to the right side of the string until it reaches the specified width.\n",
    "   - The `width` and `fillchar` parameters have the same meaning as in the `rjust()` method.\n",
    "\n",
    "3. **Centering a string**: `str.center(width, fillchar)`\n",
    "   - This method centers a string by adding spaces or a specified fill character (`fillchar`) on both sides of the string until it reaches the specified width.\n",
    "   - The `width` and `fillchar` parameters have the same meaning as in the previous methods.\n",
    "\n"
   ]
  },
  {
   "cell_type": "code",
   "execution_count": 28,
   "id": "0344185e",
   "metadata": {},
   "outputs": [
    {
     "name": "stdout",
     "output_type": "stream",
     "text": [
      "     Hello\n",
      "hay\n"
     ]
    }
   ],
   "source": [
    "text = 'Hello'\n",
    "justified_text = text.rjust(10)\n",
    "print(justified_text)  # Output: '     Hello'\n",
    "print(\"hay\")"
   ]
  },
  {
   "cell_type": "code",
   "execution_count": 29,
   "id": "2320a19b",
   "metadata": {},
   "outputs": [
    {
     "name": "stdout",
     "output_type": "stream",
     "text": [
      "Hello     \n",
      "hay\n"
     ]
    }
   ],
   "source": [
    "text = 'Hello'\n",
    "justified_text = text.ljust(10)\n",
    "print(justified_text)  # Output: 'Hello     '\n",
    "print(\"hay\")"
   ]
  },
  {
   "cell_type": "code",
   "execution_count": 30,
   "id": "1fd2033b",
   "metadata": {},
   "outputs": [
    {
     "name": "stdout",
     "output_type": "stream",
     "text": [
      "  Hello   \n",
      "hay\n"
     ]
    }
   ],
   "source": [
    "text = 'Hello'\n",
    "centered_text = text.center(10)\n",
    "print(centered_text)  # Output: '  Hello   '\n",
    "print(\"hay\")"
   ]
  },
  {
   "cell_type": "markdown",
   "id": "04a98ba4",
   "metadata": {},
   "source": [
    "**10. What is the best way to remove whitespace characters from the start or end?**"
   ]
  },
  {
   "cell_type": "markdown",
   "id": "4f81f457",
   "metadata": {},
   "source": [
    "To remove whitespace characters from the start or end of a string in Python, you can use the following methods:\n",
    "\n",
    "- `strip()`: Removes leading and trailing whitespace characters from a string.\n",
    "- `lstrip()`: Removes leading whitespace characters from a string.\n",
    "- `rstrip()`: Removes trailing whitespace characters from a string.\n"
   ]
  },
  {
   "cell_type": "code",
   "execution_count": 31,
   "id": "e6b08c7b",
   "metadata": {},
   "outputs": [
    {
     "name": "stdout",
     "output_type": "stream",
     "text": [
      "Hello, world!\n"
     ]
    }
   ],
   "source": [
    "text = \"   Hello, world!   \"\n",
    "trimmed_text = text.strip()\n",
    "print(trimmed_text)  # Output: \"Hello, world!\"\n"
   ]
  },
  {
   "cell_type": "code",
   "execution_count": 32,
   "id": "9a976724",
   "metadata": {},
   "outputs": [
    {
     "name": "stdout",
     "output_type": "stream",
     "text": [
      "Hello, world!   \n",
      "   Hello, world!\n"
     ]
    }
   ],
   "source": [
    "text = \"   Hello, world!   \"\n",
    "left_trimmed_text = text.lstrip()\n",
    "right_trimmed_text = text.rstrip()\n",
    "print(left_trimmed_text)   # Output: \"Hello, world!   \"\n",
    "print(right_trimmed_text)  # Output: \"   Hello, world!\"\n"
   ]
  },
  {
   "cell_type": "code",
   "execution_count": null,
   "id": "58488c36",
   "metadata": {},
   "outputs": [],
   "source": []
  }
 ],
 "metadata": {
  "kernelspec": {
   "display_name": "Python 3 (ipykernel)",
   "language": "python",
   "name": "python3"
  },
  "language_info": {
   "codemirror_mode": {
    "name": "ipython",
    "version": 3
   },
   "file_extension": ".py",
   "mimetype": "text/x-python",
   "name": "python",
   "nbconvert_exporter": "python",
   "pygments_lexer": "ipython3",
   "version": "3.7.15"
  }
 },
 "nbformat": 4,
 "nbformat_minor": 5
}
