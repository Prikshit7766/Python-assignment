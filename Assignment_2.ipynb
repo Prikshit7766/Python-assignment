{
 "cells": [
  {
   "cell_type": "markdown",
   "id": "0169970d",
   "metadata": {},
   "source": [
    "question - https://drive.google.com/file/d/1eeRUJ1JzCWBWWPi9u3-q8ICJRSQwHUK8/view"
   ]
  },
  {
   "cell_type": "markdown",
   "id": "c64d573f",
   "metadata": {},
   "source": [
    "**1.What are the two values of the Boolean data type? How do you write them?**\n"
   ]
  },
  {
   "cell_type": "markdown",
   "id": "1605f728",
   "metadata": {},
   "source": [
    "**answer**\n",
    "The two values of the Boolean data type are \"true\" and \"false\". \n",
    "\n",
    "In programming languages such as Python, true and false are represented by the keywords \"True\" and \"False\" respectively. "
   ]
  },
  {
   "cell_type": "code",
   "execution_count": 1,
   "id": "e2024c0c",
   "metadata": {},
   "outputs": [
    {
     "name": "stdout",
     "output_type": "stream",
     "text": [
      "False\n",
      "False\n",
      "True\n"
     ]
    }
   ],
   "source": [
    "# example\n",
    "x = 5\n",
    "y = 10\n",
    "is_greater = x > y  # is_greater is assigned the value False\n",
    "print(is_greater)  # Output: False\n",
    "\n",
    "is_equal = x == y  # is_equal is assigned the value False\n",
    "print(is_equal)  # Output: False\n",
    "\n",
    "is_smaller = x < y  # is_smaller is assigned the value True\n",
    "print(is_smaller)  # Output: True"
   ]
  },
  {
   "cell_type": "markdown",
   "id": "4570b222",
   "metadata": {},
   "source": [
    "**2. What are the three different types of Boolean operators?**"
   ]
  },
  {
   "cell_type": "markdown",
   "id": "11aa3bcc",
   "metadata": {},
   "source": [
    "**answer**\n",
    "1. \"and\" operator - returns True if both operands are True, otherwise it returns False. It is represented by the keyword \"and\".\n",
    "\n",
    "2. \"or\" operator - returns True if at least one operand is True, otherwise it returns False. It is represented by the keyword \"or\".\n",
    "\n",
    "3. \"not\" operator - returns the opposite of the operand's value. It is represented by the keyword \"not\"."
   ]
  },
  {
   "cell_type": "markdown",
   "id": "e3613002",
   "metadata": {},
   "source": [
    "**3. Make a list of each Boolean operator&#39;s truth tables (i.e. every possible combination of Boolean\n",
    "values for the operator and what it evaluate ).**"
   ]
  },
  {
   "cell_type": "markdown",
   "id": "f52abe86",
   "metadata": {},
   "source": [
    "**answer**\n",
    "\n",
    "**Boolean Operator Truth Tables**\n",
    "\n",
    "1. AND Operator Truth Table\n",
    "\n",
    "| A     | B     | A and B |\n",
    "|-------|-------|---------|\n",
    "| False | False | False   |\n",
    "| False | True  | False   |\n",
    "| True  | False | False   |\n",
    "| True  | True  | True    |\n",
    "\n",
    "2. OR Operator Truth Table\n",
    "\n",
    "| A     | B     | A or B |\n",
    "|-------|-------|--------|\n",
    "| False | False | False  |\n",
    "| False | True  | True   |\n",
    "| True  | False | True   |\n",
    "| True  | True  | True   |\n",
    "\n",
    "3. NOT Operator Truth Table\n",
    "\n",
    "| A     | not A |\n",
    "|-------|-------|\n",
    "| False | True  |\n",
    "| True  | False |"
   ]
  },
  {
   "cell_type": "markdown",
   "id": "90d3cbab",
   "metadata": {},
   "source": [
    "**4. What are the values of the following expressions?**\n",
    "\n",
    "**(5 &gt; 4) and (3 == 5)**\n",
    "\n",
    "**not (5 &gt; 4)**\n",
    "\n",
    "**(5 &gt; 4) or (3 == 5)**\n",
    "\n",
    "**not ((5 &gt; 4) or (3 == 5))**\n",
    "\n",
    "**(True and True) and (True == False)**\n",
    "\n",
    "**(not False) or (not True)**"
   ]
  },
  {
   "cell_type": "markdown",
   "id": "89216747",
   "metadata": {},
   "source": [
    "**answer**\n",
    "\n",
    "**Boolean Expression Evaluation**\n",
    "\n",
    "1. `(5 > 4) and (3 == 5)`  =>  `False`\n",
    "   Explanation: The first expression `(5 > 4)` is True, but the second expression `(3 == 5)` is False, so the overall expression is False because it uses the \"and\" operator, which requires both sub-expressions to be True for the overall expression to be True.\n",
    "\n",
    "2. `not (5 > 4)`  =>  `False`\n",
    "   Explanation: The expression `(5 > 4)` is True, so the \"not\" operator negates it to False.\n",
    "\n",
    "3. `(5 > 4) or (3 == 5)`  =>  `True`\n",
    "   Explanation: The first expression `(5 > 4)` is True, so the overall expression is True because it uses the \"or\" operator, which requires only one sub-expression to be True for the overall expression to be True.\n",
    "\n",
    "4. `not ((5 > 4) or (3 == 5))`  =>  `False`\n",
    "   Explanation: The expression `(5 > 4) or (3 == 5)` is True, so the \"not\" operator negates it to False.\n",
    "\n",
    "5. `(True and True) and (True == False)`  =>  `False`\n",
    "   Explanation: The first two sub-expressions `(True and True)` evaluate to True because they use the \"and\" operator, which requires both sub-expressions to be True for the overall expression to be True. However, the third sub-expression `(True == False)` is False, so the overall expression is False because it uses the \"and\" operator.\n",
    "\n",
    "6. `(not False) or (not True)`  =>  `True`\n",
    "   Explanation: The first sub-expression `(not False)` is True because it negates False to True. The second sub-expression `(not True)` is False because it negates True to False. The overall expression uses\n"
   ]
  },
  {
   "cell_type": "markdown",
   "id": "c400662e",
   "metadata": {},
   "source": [
    "**5. What are the six comparison operators?**"
   ]
  },
  {
   "cell_type": "markdown",
   "id": "adfac5ba",
   "metadata": {},
   "source": [
    "**answer**\n",
    "\n",
    "**Six Comparison Operators**\n",
    "\n",
    "1. Greater than (`>`) - checks if one value is greater than another\n",
    "2. Less than (`<`) - checks if one value is less than another\n",
    "3. Greater than or equal to (`>=`) - checks if one value is greater than or equal to another\n",
    "4. Less than or equal to (`<=`) - checks if one value is less than or equal to another\n",
    "5. Equal to (`==`) - checks if two values are equal\n",
    "6. Not equal to (`!=`) - checks if two values are not equal\n"
   ]
  },
  {
   "cell_type": "markdown",
   "id": "efe92023",
   "metadata": {},
   "source": [
    "**6. How do you tell the difference between the equal to and assignment operators?Describe a\n",
    "condition and when you would use one.**"
   ]
  },
  {
   "cell_type": "markdown",
   "id": "b6f0696a",
   "metadata": {},
   "source": [
    "**answer**\n",
    "\n",
    "**Equal To vs. Assignment Operators**\n",
    "\n",
    "In Python, the \"equal to\" operator (`==`) is used to compare two values and returns True if they are equal, and False otherwise. On the other hand, the assignment operator (`=`) is used to assign a value to a variable.\n",
    "\n",
    "For example, let's consider the following code:"
   ]
  },
  {
   "cell_type": "code",
   "execution_count": 4,
   "id": "1ebcd5bf",
   "metadata": {},
   "outputs": [
    {
     "name": "stdout",
     "output_type": "stream",
     "text": [
      "x is not equal to y\n"
     ]
    }
   ],
   "source": [
    "x = 5 # Assignment operator assigns the value 5 to variable x\n",
    "y = 10 # Assignment operator assigns the value 10 to variable y\n",
    "\n",
    "if x == y:\n",
    "    print(\"x is equal to y\")\n",
    "else:\n",
    "    print(\"x is not equal to y\")"
   ]
  },
  {
   "cell_type": "markdown",
   "id": "2d904854",
   "metadata": {},
   "source": [
    "In the above code, we are using the \"equal to\" operator to compare the values of variables `x` and `y`. Since `x` is not equal to `y`, the output of the program will be `x is not equal to y`.\n",
    "\n",
    "\"equal to\" operator when we want to compare two values, and we use the assignment operator when we want to assign a value to a variable. It is important to distinguish between the two operators to avoid errors in our code."
   ]
  },
  {
   "cell_type": "markdown",
   "id": "c002a34a",
   "metadata": {},
   "source": [
    "**7. Identify the three blocks in this code:**\n",
    "\n",
    "**spam = 0**\n",
    "\n",
    "**if spam == 10:**\n",
    "\n",
    "**print(&#39;eggs&#39;)**\n",
    "\n",
    "**if spam &gt; 5:**\n",
    "\n",
    "**print(&#39;bacon&#39;)**\n",
    "\n",
    "**else:**\n",
    "\n",
    "**print(&#39;ham&#39;)**\n",
    "\n",
    "**print(&#39;spam&#39;)**\n",
    "\n",
    "**print(&#39;spam&#39;)**"
   ]
  },
  {
   "cell_type": "markdown",
   "id": "ba1d72ab",
   "metadata": {},
   "source": [
    "**answer**\n",
    "\n",
    "\n",
    "Block 1:\n",
    "spam = 0\n",
    "\n",
    "Block 2:\n",
    "if spam == 10:\n",
    "    print('eggs')\n",
    "\n",
    "Block 3:\n",
    "if spam > 5:\n",
    "    print('bacon')\n",
    "else:\n",
    "    print('ham')\n",
    "    \n",
    "print('spam')\n",
    "print('spam')\n",
    "\n",
    "\n",
    "Block 1 contains the assignment statement that sets the value of spam to 0.\n",
    "\n",
    "Block 2 contains a condition that checks if the value of spam is equal to 10. If it is, the code block inside the if statement will execute and print the string 'eggs'. However, since the value of spam is not 10, this block will be skipped.\n",
    "\n",
    "Block 3 contains another condition that checks if the value of spam is greater than 5. If it is, the code block inside the if statement will execute and print the string 'bacon'. If the value of spam is not greater than 5, the code block inside the else statement will execute and print the string 'ham'."
   ]
  },
  {
   "cell_type": "markdown",
   "id": "c4917f64",
   "metadata": {},
   "source": [
    "**8. Write code that prints Hello if 1 is stored in spam, prints Howdy if 2 is stored in spam, and prints\n",
    "Greetings! if anything else is stored in spam.**"
   ]
  },
  {
   "cell_type": "markdown",
   "id": "e720860e",
   "metadata": {},
   "source": [
    "**answer**"
   ]
  },
  {
   "cell_type": "code",
   "execution_count": 7,
   "id": "e7af07dc",
   "metadata": {},
   "outputs": [
    {
     "name": "stdout",
     "output_type": "stream",
     "text": [
      "Please enter a value for spam: 1\n",
      "Hello\n"
     ]
    }
   ],
   "source": [
    "spam = input(\"Please enter a value for spam: \")\n",
    "\n",
    "if spam == \"1\":\n",
    "    print(\"Hello\")\n",
    "elif spam == \"2\":\n",
    "    print(\"Howdy\")\n",
    "else:\n",
    "    print(\"Greetings!\")"
   ]
  },
  {
   "cell_type": "markdown",
   "id": "e805a3fb",
   "metadata": {},
   "source": [
    "**9.If your programme is stuck in an endless loop, what keys you’ll press?**"
   ]
  },
  {
   "cell_type": "markdown",
   "id": "2a597843",
   "metadata": {},
   "source": [
    "**answer**\n",
    "\n",
    "If your program is stuck in an endless loop in Jupyter Notebook, you can interrupt the kernel by pressing the \"Interrupt Kernel\" button"
   ]
  },
  {
   "cell_type": "markdown",
   "id": "6ca406b7",
   "metadata": {},
   "source": [
    "**10. How can you tell the difference between break and continue?**"
   ]
  },
  {
   "cell_type": "markdown",
   "id": "d31898d8",
   "metadata": {},
   "source": [
    "**answer**\n",
    "\n",
    "break is used to immediately exit a loop. When break is encountered within a loop, the loop is terminated and the program control resumes at the next statement after the loop.\n",
    "\n",
    "On the other hand, continue is used to skip the rest of the loop for the current iteration and move on to the next iteration. When continue is encountered within a loop, the program skips the remaining statements in the loop for the current iteration and moves on to the next iteration."
   ]
  },
  {
   "cell_type": "code",
   "execution_count": 9,
   "id": "b62b1420",
   "metadata": {},
   "outputs": [
    {
     "name": "stdout",
     "output_type": "stream",
     "text": [
      "0\n",
      "1\n",
      "2\n",
      "3\n",
      "4\n"
     ]
    }
   ],
   "source": [
    "# Example of using break\n",
    "for i in range(10):\n",
    "    if i == 5:\n",
    "        break\n",
    "    print(i)\n",
    "    \n",
    "# Output: 0 1 2 3 4\n",
    "\n",
    "\n"
   ]
  },
  {
   "cell_type": "code",
   "execution_count": 10,
   "id": "e25414bd",
   "metadata": {},
   "outputs": [
    {
     "name": "stdout",
     "output_type": "stream",
     "text": [
      "0\n",
      "1\n",
      "2\n",
      "3\n",
      "4\n",
      "6\n",
      "7\n",
      "8\n",
      "9\n"
     ]
    }
   ],
   "source": [
    "# Example of using continue\n",
    "for i in range(10):\n",
    "    if i == 5:\n",
    "        continue\n",
    "    print(i)\n",
    "    \n",
    "# Output: 0 1 2 3 4 6 7 8 9"
   ]
  },
  {
   "cell_type": "markdown",
   "id": "b94a78e7",
   "metadata": {},
   "source": [
    "**11. In a for loop, what is the difference between range(10), range(0, 10), and range(0, 10, 1)?**"
   ]
  },
  {
   "cell_type": "markdown",
   "id": "9aa936b0",
   "metadata": {},
   "source": [
    "**answer**\n",
    "\n",
    "In a for loop, range(10), range(0, 10), and range(0, 10, 1) are three different ways of creating an iterable sequence of numbers from 0 to 9.\n",
    "\n",
    "- range(10) creates a sequence of numbers from 0 to 9. It is equivalent to range(0, 10) and range(0, 10, 1).\n",
    "\n",
    "- range(0, 10) explicitly defines the starting point of the sequence as 0 and the ending point as 9. The step size between the numbers is 1 by default.\n",
    "\n",
    "- range(0, 10, 1) explicitly defines the starting point of the sequence as 0, the ending point as 9, and the step size as 1. It is equivalent to range(0, 10).\n",
    "\n"
   ]
  },
  {
   "cell_type": "code",
   "execution_count": 12,
   "id": "608a35f3",
   "metadata": {},
   "outputs": [
    {
     "name": "stdout",
     "output_type": "stream",
     "text": [
      "0\n",
      "1\n",
      "2\n",
      "3\n",
      "4\n",
      "5\n",
      "6\n",
      "7\n",
      "8\n",
      "9\n"
     ]
    }
   ],
   "source": [
    "# Using range(10)\n",
    "for i in range(10):\n",
    "    print(i)\n",
    "    \n",
    "# Output: 0 1 2 3 4 5 6 7 8 9\n",
    "\n",
    "\n",
    "\n",
    "\n",
    "\n"
   ]
  },
  {
   "cell_type": "code",
   "execution_count": 13,
   "id": "eec0feed",
   "metadata": {},
   "outputs": [
    {
     "name": "stdout",
     "output_type": "stream",
     "text": [
      "0\n",
      "1\n",
      "2\n",
      "3\n",
      "4\n",
      "5\n",
      "6\n",
      "7\n",
      "8\n",
      "9\n"
     ]
    }
   ],
   "source": [
    "# Using range(0, 10)\n",
    "for i in range(0, 10):\n",
    "    print(i)\n",
    "    \n",
    "# Output: 0 1 2 3 4 5 6 7 8 9"
   ]
  },
  {
   "cell_type": "code",
   "execution_count": 11,
   "id": "e1ef6888",
   "metadata": {},
   "outputs": [
    {
     "name": "stdout",
     "output_type": "stream",
     "text": [
      "0\n",
      "1\n",
      "2\n",
      "3\n",
      "4\n",
      "5\n",
      "6\n",
      "7\n",
      "8\n",
      "9\n"
     ]
    }
   ],
   "source": [
    "# Using range(0, 10, 1)\n",
    "for i in range(0, 10, 1):\n",
    "    print(i)\n",
    "    \n",
    "# Output: 0 1 2 3 4 5 6 7 8 9"
   ]
  },
  {
   "cell_type": "markdown",
   "id": "7a0d75e8",
   "metadata": {},
   "source": [
    "**12. Write a short program that prints the numbers 1 to 10 using a for loop. Then write an equivalent\n",
    "program that prints the numbers 1 to 10 using a while loop.**"
   ]
  },
  {
   "cell_type": "markdown",
   "id": "ec9820b2",
   "metadata": {},
   "source": [
    "**answer**"
   ]
  },
  {
   "cell_type": "code",
   "execution_count": 14,
   "id": "28ae64d6",
   "metadata": {},
   "outputs": [
    {
     "name": "stdout",
     "output_type": "stream",
     "text": [
      "1\n",
      "2\n",
      "3\n",
      "4\n",
      "5\n",
      "6\n",
      "7\n",
      "8\n",
      "9\n",
      "10\n"
     ]
    }
   ],
   "source": [
    "# Using for loop\n",
    "for i in range(1, 11):\n",
    "    print(i)\n",
    "\n",
    "# Output: 1 2 3 4 5 6 7 8 9 10\n",
    "\n"
   ]
  },
  {
   "cell_type": "code",
   "execution_count": 15,
   "id": "2b7408fd",
   "metadata": {},
   "outputs": [
    {
     "name": "stdout",
     "output_type": "stream",
     "text": [
      "1\n",
      "2\n",
      "3\n",
      "4\n",
      "5\n",
      "6\n",
      "7\n",
      "8\n",
      "9\n",
      "10\n"
     ]
    }
   ],
   "source": [
    "# Using while loop\n",
    "i = 1\n",
    "while i <= 10:\n",
    "    print(i)\n",
    "    i += 1\n",
    "\n",
    "# Output: 1 2 3 4 5 6 7 8 9 10"
   ]
  },
  {
   "cell_type": "markdown",
   "id": "004b72af",
   "metadata": {},
   "source": [
    "**13. If you had a function named bacon() inside a module named spam, how would you call it after\n",
    "importing spam?**"
   ]
  },
  {
   "cell_type": "markdown",
   "id": "0fbb30ac",
   "metadata": {},
   "source": [
    "**answer**"
   ]
  },
  {
   "cell_type": "code",
   "execution_count": null,
   "id": "a30f88f4",
   "metadata": {},
   "outputs": [],
   "source": [
    "import spam\n",
    "\n",
    "spam.bacon()\n",
    "\n"
   ]
  },
  {
   "cell_type": "code",
   "execution_count": null,
   "id": "d8259872",
   "metadata": {},
   "outputs": [],
   "source": [
    "# Alternatively\n",
    "from spam import bacon\n",
    "\n",
    "bacon()\n"
   ]
  }
 ],
 "metadata": {
  "kernelspec": {
   "display_name": "Python 3 (ipykernel)",
   "language": "python",
   "name": "python3"
  },
  "language_info": {
   "codemirror_mode": {
    "name": "ipython",
    "version": 3
   },
   "file_extension": ".py",
   "mimetype": "text/x-python",
   "name": "python",
   "nbconvert_exporter": "python",
   "pygments_lexer": "ipython3",
   "version": "3.7.15"
  }
 },
 "nbformat": 4,
 "nbformat_minor": 5
}
